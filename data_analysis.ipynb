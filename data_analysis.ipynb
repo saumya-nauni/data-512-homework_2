{
 "cells": [
  {
   "cell_type": "markdown",
   "metadata": {},
   "source": [
    "# Analysis of the Data\n",
    "\n",
    "## Information of the Different Analysis\n",
    "\n",
    "The analysis consists of calculating total-articles-per-population (a ratio representing the number of articles per person) and high-quality-articles-per-population (a ratio representing the number of high quality articles per person) on a state-by state and divisional basis. All of these values are 'per capita' ratios.\n",
    "\n",
    "For the analysis we are considering 'high quality' articles to be articles that ORES predicted would be in either the 'FA' (featured article) or 'GA' (good article) classes."
   ]
  },
  {
   "cell_type": "code",
   "execution_count": 1,
   "metadata": {},
   "outputs": [],
   "source": [
    "# ---------------------------- importing libraries --------------------------- #\n",
    "\n",
    "import pandas as pd"
   ]
  },
  {
   "cell_type": "code",
   "execution_count": 2,
   "metadata": {},
   "outputs": [
    {
     "data": {
      "text/html": [
       "<div>\n",
       "<style scoped>\n",
       "    .dataframe tbody tr th:only-of-type {\n",
       "        vertical-align: middle;\n",
       "    }\n",
       "\n",
       "    .dataframe tbody tr th {\n",
       "        vertical-align: top;\n",
       "    }\n",
       "\n",
       "    .dataframe thead th {\n",
       "        text-align: right;\n",
       "    }\n",
       "</style>\n",
       "<table border=\"1\" class=\"dataframe\">\n",
       "  <thead>\n",
       "    <tr style=\"text-align: right;\">\n",
       "      <th></th>\n",
       "      <th>state</th>\n",
       "      <th>regional_division</th>\n",
       "      <th>population</th>\n",
       "      <th>article_title</th>\n",
       "      <th>revision_id</th>\n",
       "      <th>article_quality</th>\n",
       "    </tr>\n",
       "  </thead>\n",
       "  <tbody>\n",
       "    <tr>\n",
       "      <th>0</th>\n",
       "      <td>Alabama</td>\n",
       "      <td>East South Central</td>\n",
       "      <td>5074296.0</td>\n",
       "      <td>Abbeville, Alabama</td>\n",
       "      <td>1171163550</td>\n",
       "      <td>C</td>\n",
       "    </tr>\n",
       "    <tr>\n",
       "      <th>1</th>\n",
       "      <td>Alabama</td>\n",
       "      <td>East South Central</td>\n",
       "      <td>5074296.0</td>\n",
       "      <td>Adamsville, Alabama</td>\n",
       "      <td>1177621427</td>\n",
       "      <td>C</td>\n",
       "    </tr>\n",
       "    <tr>\n",
       "      <th>2</th>\n",
       "      <td>Alabama</td>\n",
       "      <td>East South Central</td>\n",
       "      <td>5074296.0</td>\n",
       "      <td>Addison, Alabama</td>\n",
       "      <td>1168359898</td>\n",
       "      <td>C</td>\n",
       "    </tr>\n",
       "    <tr>\n",
       "      <th>3</th>\n",
       "      <td>Alabama</td>\n",
       "      <td>East South Central</td>\n",
       "      <td>5074296.0</td>\n",
       "      <td>Akron, Alabama</td>\n",
       "      <td>1165909508</td>\n",
       "      <td>GA</td>\n",
       "    </tr>\n",
       "    <tr>\n",
       "      <th>4</th>\n",
       "      <td>Alabama</td>\n",
       "      <td>East South Central</td>\n",
       "      <td>5074296.0</td>\n",
       "      <td>Alabaster, Alabama</td>\n",
       "      <td>1179139816</td>\n",
       "      <td>C</td>\n",
       "    </tr>\n",
       "  </tbody>\n",
       "</table>\n",
       "</div>"
      ],
      "text/plain": [
       "     state   regional_division  population        article_title  revision_id  \\\n",
       "0  Alabama  East South Central   5074296.0   Abbeville, Alabama   1171163550   \n",
       "1  Alabama  East South Central   5074296.0  Adamsville, Alabama   1177621427   \n",
       "2  Alabama  East South Central   5074296.0     Addison, Alabama   1168359898   \n",
       "3  Alabama  East South Central   5074296.0       Akron, Alabama   1165909508   \n",
       "4  Alabama  East South Central   5074296.0   Alabaster, Alabama   1179139816   \n",
       "\n",
       "  article_quality  \n",
       "0               C  \n",
       "1               C  \n",
       "2               C  \n",
       "3              GA  \n",
       "4               C  "
      ]
     },
     "execution_count": 2,
     "metadata": {},
     "output_type": "execute_result"
    }
   ],
   "source": [
    "# --------------------------- importing saved data --------------------------- #\n",
    "\n",
    "df = pd.read_csv(\"data/wp_scored_city_articles_by_state.csv\")\n",
    "df.head()"
   ]
  },
  {
   "cell_type": "markdown",
   "metadata": {},
   "source": [
    "### Top 10 US States by coverage: The 10 states with the highest total articles per capita (descending order)"
   ]
  },
  {
   "cell_type": "code",
   "execution_count": 3,
   "metadata": {},
   "outputs": [
    {
     "name": "stdout",
     "output_type": "stream",
     "text": [
      "Data Table: Top 10 US States by Coverage\n",
      "\n",
      "           State  Total Articles per Capita\n",
      "0        Vermont                   0.001014\n",
      "1   South Dakota                   0.000684\n",
      "2   North Dakota                   0.000457\n",
      "3   Pennsylvania                   0.000394\n",
      "4          Maine                   0.000349\n",
      "5        Wyoming                   0.000341\n",
      "6           Iowa                   0.000326\n",
      "7  West Virginia                   0.000261\n",
      "8         Alaska                   0.000203\n",
      "9       Michigan                   0.000177\n"
     ]
    }
   ],
   "source": [
    "# ------------------------- top 10 states by coverage ------------------------ #\n",
    "\n",
    "# calculating total articles per capita\n",
    "total_articles = df.groupby('state')['article_title'].count() / df.groupby('state')['population'].mean()\n",
    "\n",
    "# sorting the states by total articles per capita in descending order and selecting the top 10\n",
    "top_10_states = total_articles.sort_values(ascending = False).head(10)\n",
    "\n",
    "# creating a DataFrame for the top 10 states by coverage\n",
    "top_10_states_coverage = pd.DataFrame({\n",
    "    'State': top_10_states.index,\n",
    "    'Total Articles per Capita': top_10_states.values\n",
    "})\n",
    "\n",
    "# display the data table\n",
    "table_name = \"Top 10 US States by Coverage\"\n",
    "print(f\"Data Table: {table_name}\\n\")\n",
    "print(top_10_states_coverage)"
   ]
  },
  {
   "cell_type": "markdown",
   "metadata": {},
   "source": [
    "### Bottom 10 US States by coverage: The 10 states with the lowest total articles per capita (ascending order)"
   ]
  },
  {
   "cell_type": "code",
   "execution_count": 4,
   "metadata": {},
   "outputs": [
    {
     "name": "stdout",
     "output_type": "stream",
     "text": [
      "Data Table: Bottom 10 US States by Coverage\n",
      "\n",
      "            State  Total Articles per Capita\n",
      "0  North Carolina                   0.000005\n",
      "1          Nevada                   0.000006\n",
      "2      California                   0.000012\n",
      "3         Arizona                   0.000012\n",
      "4        Virginia                   0.000015\n",
      "5         Florida                   0.000018\n",
      "6        Oklahoma                   0.000019\n",
      "7          Kansas                   0.000021\n",
      "8        Maryland                   0.000025\n",
      "9        New York                   0.000033\n"
     ]
    }
   ],
   "source": [
    "# ------------------------- bottom 10 states by coverage ------------------------ #\n",
    "\n",
    "# sortting the states by total articles per capita in ascending order and selecting the bottom 10\n",
    "bottom_10_states = total_articles.sort_values(ascending = True).head(10)\n",
    "\n",
    "# creating a DataFrame for the bottom 10 states by coverage\n",
    "bottom_10_states_coverage = pd.DataFrame({\n",
    "    'State': bottom_10_states.index,\n",
    "    'Total Articles per Capita': bottom_10_states.values\n",
    "})\n",
    "\n",
    "# display the data table\n",
    "table_name = \"Bottom 10 US States by Coverage\"\n",
    "print(f\"Data Table: {table_name}\\n\")\n",
    "print(bottom_10_states_coverage)"
   ]
  },
  {
   "cell_type": "markdown",
   "metadata": {},
   "source": [
    "### Top 10 US States by high quality: The 10 states with the highest high quality articles per capita (descending order)"
   ]
  },
  {
   "cell_type": "code",
   "execution_count": 5,
   "metadata": {},
   "outputs": [
    {
     "name": "stdout",
     "output_type": "stream",
     "text": [
      "Data Table: Top 10 states by high quality\n",
      "\n",
      "           State  High Quality Articles per Capita\n",
      "0        Vermont                          0.000139\n",
      "1        Wyoming                          0.000134\n",
      "2   South Dakota                          0.000123\n",
      "3  West Virginia                          0.000119\n",
      "4   Pennsylvania                          0.000087\n",
      "5        Montana                          0.000049\n",
      "6  New Hampshire                          0.000045\n",
      "7       Missouri                          0.000043\n",
      "8         Alaska                          0.000042\n",
      "9      Tennessee                          0.000041\n"
     ]
    }
   ],
   "source": [
    "# ----------------------- top 10 states by high quality ---------------------- #\n",
    "\n",
    "# filtering and counting high-quality articles\n",
    "high_quality_articles = df[df['article_quality'].isin(['FA', 'GA'])]\n",
    "\n",
    "# calculating the high-quality articles per capita\n",
    "high_quality_articles_pc = high_quality_articles.groupby('state')['article_title'].count() / df.groupby('state')['population'].mean()\n",
    "\n",
    "# sorting the states by high-quality articles per capita in descending order and selecting the top 10\n",
    "top_10_states = high_quality_articles_pc.sort_values(ascending = False).head(10)\n",
    "\n",
    "# creating a DataFrames for the top and bottom 10 states by high quality\n",
    "top_10_states_high_quality = pd.DataFrame({\n",
    "    'State': top_10_states.index,\n",
    "    'High Quality Articles per Capita': top_10_states.values\n",
    "})\n",
    "\n",
    "# display the data table\n",
    "table_name = \"Top 10 states by high quality\"\n",
    "print(f\"Data Table: {table_name}\\n\")\n",
    "print(top_10_states_high_quality)"
   ]
  },
  {
   "cell_type": "markdown",
   "metadata": {},
   "source": [
    "### Bottom 10 US States by high quality: The 10 states with the lowest high quality articles per capita (ascending order)"
   ]
  },
  {
   "cell_type": "code",
   "execution_count": 6,
   "metadata": {},
   "outputs": [
    {
     "name": "stdout",
     "output_type": "stream",
     "text": [
      "Data Table: Bottom 10 states by high quality\n",
      "\n",
      "            State  High Quality Articles per Capita\n",
      "0  North Carolina                          0.000002\n",
      "1        Virginia                          0.000002\n",
      "2          Nevada                          0.000003\n",
      "3         Arizona                          0.000003\n",
      "4      California                          0.000004\n",
      "5         Florida                          0.000005\n",
      "6        New York                          0.000006\n",
      "7        Maryland                          0.000007\n",
      "8          Kansas                          0.000007\n",
      "9        Oklahoma                          0.000008\n"
     ]
    }
   ],
   "source": [
    "# --------------------- bottom 10 states by high quality --------------------- #\n",
    "\n",
    "# sorting the states by high-quality articles per capita in ascending order and selecting the bottom 10\n",
    "bottom_10_states_by_high_quality = high_quality_articles_pc.sort_values(ascending = True).head(10)\n",
    "\n",
    "# creating a DataFrame from the sorted Series\n",
    "bottom_10_states_high_quality = pd.DataFrame({\n",
    "    'State': bottom_10_states_by_high_quality.index,\n",
    "    'High Quality Articles per Capita': bottom_10_states_by_high_quality.values\n",
    "})\n",
    "\n",
    "# display the data table\n",
    "table_name = \"Bottom 10 states by high quality\"\n",
    "print(f\"Data Table: {table_name}\\n\")\n",
    "print(bottom_10_states_high_quality)"
   ]
  },
  {
   "cell_type": "markdown",
   "metadata": {},
   "source": [
    "### Census divisions by total coverage: A rank ordered list of US census divisions (descending order) by total articles per capita"
   ]
  },
  {
   "cell_type": "code",
   "execution_count": 7,
   "metadata": {},
   "outputs": [
    {
     "name": "stdout",
     "output_type": "stream",
     "text": [
      "Data Table: Census Divisions by Total Coverage\n",
      "\n",
      "      Census Division  Total Articles per Capita\n",
      "0  West North Central                   0.000889\n",
      "1  East North Central                   0.000642\n",
      "2         New England                   0.000556\n",
      "3  East South Central                   0.000389\n",
      "4     Middle Atlantic                   0.000327\n",
      "5      South Atlantic                   0.000235\n",
      "6            Mountain                   0.000142\n",
      "7  West South Central                   0.000141\n",
      "8             Pacific                   0.000088\n"
     ]
    }
   ],
   "source": [
    "# -------------------- census divisions by total coverage -------------------- #\n",
    "\n",
    "# calculating total articles per capita by Census division\n",
    "total_articles_per_capita = df.groupby('regional_division')['article_title'].count() / df.groupby('regional_division')['population'].mean()\n",
    "\n",
    "\n",
    "# sorting the divisions by total articles per capita in descending order\n",
    "sorted_divisions_total_coverage = total_articles_per_capita.sort_values(ascending = False)\n",
    "\n",
    "# creating DataFrame for rank-ordered lists\n",
    "divisions_by_total_coverage = pd.DataFrame({\n",
    "    'Census Division': sorted_divisions_total_coverage.index,\n",
    "    'Total Articles per Capita': sorted_divisions_total_coverage.values\n",
    "})\n",
    "\n",
    "# display the data table\n",
    "table_name = \"Census Divisions by Total Coverage\"\n",
    "print(f\"Data Table: {table_name}\\n\")\n",
    "print(divisions_by_total_coverage)"
   ]
  },
  {
   "cell_type": "markdown",
   "metadata": {},
   "source": [
    "### Census divisions by high quality coverage: A rank ordered list of US census divisions (descending order) by high quality articles per capita"
   ]
  },
  {
   "cell_type": "code",
   "execution_count": 8,
   "metadata": {},
   "outputs": [
    {
     "name": "stdout",
     "output_type": "stream",
     "text": [
      "Data Table: Census Divisions by High Quality Coverage\n",
      "\n",
      "      Census Division  High Quality Articles per Capita\n",
      "0  West North Central                          0.000165\n",
      "1  East North Central                          0.000113\n",
      "2  East South Central                          0.000093\n",
      "3     Middle Atlantic                          0.000088\n",
      "4         New England                          0.000087\n",
      "5      South Atlantic                          0.000063\n",
      "6            Mountain                          0.000049\n",
      "7  West South Central                          0.000045\n",
      "8             Pacific                          0.000033\n"
     ]
    }
   ],
   "source": [
    "# ----------------- census divisions by high quality coverage ---------------- #\n",
    "\n",
    "# calculating high-quality articles per capita by Census division\n",
    "high_quality_articles_per_capita = high_quality_articles.groupby('regional_division')['article_title'].count() / df.groupby('regional_division')['population'].mean()\n",
    "\n",
    "# sorting the divisions by high-quality articles per capita in descending order\n",
    "sorted_divisions_high_quality_coverage = high_quality_articles_per_capita.sort_values(ascending = False)\n",
    "\n",
    "divisions_by_high_quality_coverage = pd.DataFrame({\n",
    "    'Census Division': sorted_divisions_high_quality_coverage.index,\n",
    "    'High Quality Articles per Capita': sorted_divisions_high_quality_coverage.values\n",
    "})\n",
    "\n",
    "# display the data table\n",
    "table_name = \"Census Divisions by High Quality Coverage\"\n",
    "print(f\"Data Table: {table_name}\\n\")\n",
    "print(divisions_by_high_quality_coverage)"
   ]
  },
  {
   "cell_type": "code",
   "execution_count": null,
   "metadata": {},
   "outputs": [],
   "source": []
  }
 ],
 "metadata": {
  "kernelspec": {
   "display_name": "base",
   "language": "python",
   "name": "python3"
  },
  "language_info": {
   "codemirror_mode": {
    "name": "ipython",
    "version": 3
   },
   "file_extension": ".py",
   "mimetype": "text/x-python",
   "name": "python",
   "nbconvert_exporter": "python",
   "pygments_lexer": "ipython3",
   "version": "3.9.13"
  }
 },
 "nbformat": 4,
 "nbformat_minor": 2
}
